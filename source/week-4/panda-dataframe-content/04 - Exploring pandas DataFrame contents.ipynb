{
 "cells": [
  {
   "cell_type": "markdown",
   "metadata": {},
   "source": [
    "# Examining pandas DataFrame contents\n",
    "\n",
    "It's useful to be able to quickly examine the contents of a DataFrame.  \n",
    "Let's start by importing the pandas library and creating a DataFrame populated with information about airports"
   ]
  },
  {
   "cell_type": "code",
   "execution_count": 1,
   "metadata": {},
   "outputs": [],
   "source": [
    "import pandas as pd"
   ]
  },
  {
   "cell_type": "code",
   "execution_count": 2,
   "metadata": {},
   "outputs": [
    {
     "output_type": "execute_result",
     "data": {
      "text/plain": [
       "            Name        City         Country\n",
       "0  Seatte-Tacoma     Seattle             USA\n",
       "1         Dulles  Washington             USA\n",
       "2       Heathrow      London  United Kingdom\n",
       "3       Schiphol   Amsterdam     Netherlands\n",
       "4         Changi   Singapore       Singapore\n",
       "5        Pearson     Toronto          Canada\n",
       "6         Narita       Tokyo           Japan"
      ],
      "text/html": "<div>\n<style scoped>\n    .dataframe tbody tr th:only-of-type {\n        vertical-align: middle;\n    }\n\n    .dataframe tbody tr th {\n        vertical-align: top;\n    }\n\n    .dataframe thead th {\n        text-align: right;\n    }\n</style>\n<table border=\"1\" class=\"dataframe\">\n  <thead>\n    <tr style=\"text-align: right;\">\n      <th></th>\n      <th>Name</th>\n      <th>City</th>\n      <th>Country</th>\n    </tr>\n  </thead>\n  <tbody>\n    <tr>\n      <th>0</th>\n      <td>Seatte-Tacoma</td>\n      <td>Seattle</td>\n      <td>USA</td>\n    </tr>\n    <tr>\n      <th>1</th>\n      <td>Dulles</td>\n      <td>Washington</td>\n      <td>USA</td>\n    </tr>\n    <tr>\n      <th>2</th>\n      <td>Heathrow</td>\n      <td>London</td>\n      <td>United Kingdom</td>\n    </tr>\n    <tr>\n      <th>3</th>\n      <td>Schiphol</td>\n      <td>Amsterdam</td>\n      <td>Netherlands</td>\n    </tr>\n    <tr>\n      <th>4</th>\n      <td>Changi</td>\n      <td>Singapore</td>\n      <td>Singapore</td>\n    </tr>\n    <tr>\n      <th>5</th>\n      <td>Pearson</td>\n      <td>Toronto</td>\n      <td>Canada</td>\n    </tr>\n    <tr>\n      <th>6</th>\n      <td>Narita</td>\n      <td>Tokyo</td>\n      <td>Japan</td>\n    </tr>\n  </tbody>\n</table>\n</div>"
     },
     "metadata": {},
     "execution_count": 2
    }
   ],
   "source": [
    "airports = pd.DataFrame([\n",
    "                        ['Seatte-Tacoma', 'Seattle', 'USA'],\n",
    "                        ['Dulles', 'Washington', 'USA'],\n",
    "                        ['Heathrow', 'London', 'United Kingdom'],\n",
    "                        ['Schiphol', 'Amsterdam', 'Netherlands'],\n",
    "                        ['Changi', 'Singapore', 'Singapore'],\n",
    "                        ['Pearson', 'Toronto', 'Canada'],\n",
    "                        ['Narita', 'Tokyo', 'Japan']\n",
    "                        ],\n",
    "                        columns = ['Name', 'City', 'Country']\n",
    "                        )\n",
    "\n",
    "airports "
   ]
  },
  {
   "cell_type": "markdown",
   "metadata": {},
   "source": [
    "## Returning first *n* rows\n",
    "\n",
    "If you have thousands of rows, you might just want to look at the first few rows\n",
    "- **head**(*n*) returns the top *n* rows\n",
    "- by default *i* is 5"
   ]
  },
  {
   "cell_type": "code",
   "execution_count": 3,
   "metadata": {},
   "outputs": [
    {
     "output_type": "execute_result",
     "data": {
      "text/plain": [
       "            Name        City         Country\n",
       "0  Seatte-Tacoma     Seattle             USA\n",
       "1         Dulles  Washington             USA\n",
       "2       Heathrow      London  United Kingdom\n",
       "3       Schiphol   Amsterdam     Netherlands\n",
       "4         Changi   Singapore       Singapore"
      ],
      "text/html": "<div>\n<style scoped>\n    .dataframe tbody tr th:only-of-type {\n        vertical-align: middle;\n    }\n\n    .dataframe tbody tr th {\n        vertical-align: top;\n    }\n\n    .dataframe thead th {\n        text-align: right;\n    }\n</style>\n<table border=\"1\" class=\"dataframe\">\n  <thead>\n    <tr style=\"text-align: right;\">\n      <th></th>\n      <th>Name</th>\n      <th>City</th>\n      <th>Country</th>\n    </tr>\n  </thead>\n  <tbody>\n    <tr>\n      <th>0</th>\n      <td>Seatte-Tacoma</td>\n      <td>Seattle</td>\n      <td>USA</td>\n    </tr>\n    <tr>\n      <th>1</th>\n      <td>Dulles</td>\n      <td>Washington</td>\n      <td>USA</td>\n    </tr>\n    <tr>\n      <th>2</th>\n      <td>Heathrow</td>\n      <td>London</td>\n      <td>United Kingdom</td>\n    </tr>\n    <tr>\n      <th>3</th>\n      <td>Schiphol</td>\n      <td>Amsterdam</td>\n      <td>Netherlands</td>\n    </tr>\n    <tr>\n      <th>4</th>\n      <td>Changi</td>\n      <td>Singapore</td>\n      <td>Singapore</td>\n    </tr>\n  </tbody>\n</table>\n</div>"
     },
     "metadata": {},
     "execution_count": 3
    }
   ],
   "source": [
    "airports.head()"
   ]
  },
  {
   "cell_type": "markdown",
   "metadata": {},
   "source": [
    "## Returning last *n* rows\n",
    "\n",
    "Looking at the last rows in a DataFrame can be a good way to check that all your data loaded correctly\n",
    "- **tail**(*n*) returns the last *n* rows\n",
    "- by default i is 5"
   ]
  },
  {
   "cell_type": "code",
   "execution_count": 4,
   "metadata": {},
   "outputs": [
    {
     "output_type": "execute_result",
     "data": {
      "text/plain": [
       "       Name       City         Country\n",
       "2  Heathrow     London  United Kingdom\n",
       "3  Schiphol  Amsterdam     Netherlands\n",
       "4    Changi  Singapore       Singapore\n",
       "5   Pearson    Toronto          Canada\n",
       "6    Narita      Tokyo           Japan"
      ],
      "text/html": "<div>\n<style scoped>\n    .dataframe tbody tr th:only-of-type {\n        vertical-align: middle;\n    }\n\n    .dataframe tbody tr th {\n        vertical-align: top;\n    }\n\n    .dataframe thead th {\n        text-align: right;\n    }\n</style>\n<table border=\"1\" class=\"dataframe\">\n  <thead>\n    <tr style=\"text-align: right;\">\n      <th></th>\n      <th>Name</th>\n      <th>City</th>\n      <th>Country</th>\n    </tr>\n  </thead>\n  <tbody>\n    <tr>\n      <th>2</th>\n      <td>Heathrow</td>\n      <td>London</td>\n      <td>United Kingdom</td>\n    </tr>\n    <tr>\n      <th>3</th>\n      <td>Schiphol</td>\n      <td>Amsterdam</td>\n      <td>Netherlands</td>\n    </tr>\n    <tr>\n      <th>4</th>\n      <td>Changi</td>\n      <td>Singapore</td>\n      <td>Singapore</td>\n    </tr>\n    <tr>\n      <th>5</th>\n      <td>Pearson</td>\n      <td>Toronto</td>\n      <td>Canada</td>\n    </tr>\n    <tr>\n      <th>6</th>\n      <td>Narita</td>\n      <td>Tokyo</td>\n      <td>Japan</td>\n    </tr>\n  </tbody>\n</table>\n</div>"
     },
     "metadata": {},
     "execution_count": 4
    }
   ],
   "source": [
    "airports.tail()"
   ]
  },
  {
   "cell_type": "markdown",
   "metadata": {},
   "source": [
    "## Checkign number of rows and columns in DataFrame\n",
    "\n",
    "Sometimes you just need to know how much data you have in the DataFrame\n",
    "- **shape** returns the number of rows and columns"
   ]
  },
  {
   "cell_type": "code",
   "execution_count": 5,
   "metadata": {},
   "outputs": [
    {
     "output_type": "execute_result",
     "data": {
      "text/plain": [
       "(7, 3)"
      ]
     },
     "metadata": {},
     "execution_count": 5
    }
   ],
   "source": [
    "airports.shape"
   ]
  },
  {
   "cell_type": "markdown",
   "metadata": {},
   "source": [
    "## Getting detailed information about DataFrame contents\n",
    "\n",
    "**DataFrame.info**() returns more detailed information about the DataFrame  \n",
    "Information returned includes:\n",
    "- The number of rows, and the range of index values\n",
    "- The number of columns\n",
    "- For each column: column name, number of non-null values, the datatype\n"
   ]
  },
  {
   "cell_type": "code",
   "execution_count": 6,
   "metadata": {},
   "outputs": [
    {
     "output_type": "stream",
     "name": "stdout",
     "text": [
      "<class 'pandas.core.frame.DataFrame'>\nRangeIndex: 7 entries, 0 to 6\nData columns (total 3 columns):\n #   Column   Non-Null Count  Dtype \n---  ------   --------------  ----- \n 0   Name     7 non-null      object\n 1   City     7 non-null      object\n 2   Country  7 non-null      object\ndtypes: object(3)\nmemory usage: 296.0+ bytes\n"
     ]
    }
   ],
   "source": [
    "airports.info()"
   ]
  },
  {
   "source": [
    "**DataFrame.describe()** returns statistical analyses about the DataFrame  \n",
    "Information returned might include:\n",
    "- Count number of non-NA/null observations.\n",
    "- Mean and Standard Deviation\n",
    "- Minimum and Maximum values buy column\n",
    "- Percentiles (25%, 50%, 75%)\n",
    "\n",
    "and many other values according to the DataFrame.\n"
   ],
   "cell_type": "markdown",
   "metadata": {}
  },
  {
   "cell_type": "code",
   "execution_count": 7,
   "metadata": {},
   "outputs": [
    {
     "output_type": "execute_result",
     "data": {
      "text/plain": [
       "          Name       City Country\n",
       "count        7          7       7\n",
       "unique       7          7       6\n",
       "top     Changi  Amsterdam     USA\n",
       "freq         1          1       2"
      ],
      "text/html": "<div>\n<style scoped>\n    .dataframe tbody tr th:only-of-type {\n        vertical-align: middle;\n    }\n\n    .dataframe tbody tr th {\n        vertical-align: top;\n    }\n\n    .dataframe thead th {\n        text-align: right;\n    }\n</style>\n<table border=\"1\" class=\"dataframe\">\n  <thead>\n    <tr style=\"text-align: right;\">\n      <th></th>\n      <th>Name</th>\n      <th>City</th>\n      <th>Country</th>\n    </tr>\n  </thead>\n  <tbody>\n    <tr>\n      <th>count</th>\n      <td>7</td>\n      <td>7</td>\n      <td>7</td>\n    </tr>\n    <tr>\n      <th>unique</th>\n      <td>7</td>\n      <td>7</td>\n      <td>6</td>\n    </tr>\n    <tr>\n      <th>top</th>\n      <td>Changi</td>\n      <td>Amsterdam</td>\n      <td>USA</td>\n    </tr>\n    <tr>\n      <th>freq</th>\n      <td>1</td>\n      <td>1</td>\n      <td>2</td>\n    </tr>\n  </tbody>\n</table>\n</div>"
     },
     "metadata": {},
     "execution_count": 7
    }
   ],
   "source": [
    "airports.describe()"
   ]
  }
 ],
 "metadata": {
  "kernelspec": {
   "display_name": "Python 3",
   "language": "python",
   "name": "python3"
  },
  "language_info": {
   "codemirror_mode": {
    "name": "ipython",
    "version": 3
   },
   "file_extension": ".py",
   "mimetype": "text/x-python",
   "name": "python",
   "nbconvert_exporter": "python",
   "pygments_lexer": "ipython3",
   "version": "3.8.5-final"
  }
 },
 "nbformat": 4,
 "nbformat_minor": 2
}